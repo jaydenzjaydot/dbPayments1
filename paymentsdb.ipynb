{
 "cells": [
  {
   "cell_type": "code",
   "execution_count": 2,
   "metadata": {},
   "outputs": [],
   "source": [
    "import pandas as pd"
   ]
  },
  {
   "cell_type": "code",
   "execution_count": 3,
   "metadata": {},
   "outputs": [
    {
     "name": "stderr",
     "output_type": "stream",
     "text": [
      "C:\\Users\\SVNET Analyst\\AppData\\Local\\Temp\\ipykernel_101676\\4292817124.py:1: DtypeWarning: Columns (15) have mixed types. Specify dtype option on import or set low_memory=False.\n",
      "  payments = pd.read_csv(r\"C:\\Users\\SVNET Analyst\\Downloads\\umshiza_db\\c19_loan_payments.csv\")\n"
     ]
    }
   ],
   "source": [
    "payments = pd.read_csv(r\"C:\\Users\\SVNET Analyst\\Downloads\\umshiza_db\\c19_loan_payments.csv\")"
   ]
  },
  {
   "cell_type": "code",
   "execution_count": null,
   "metadata": {},
   "outputs": [],
   "source": [
    "payments.head()"
   ]
  },
  {
   "cell_type": "code",
   "execution_count": 5,
   "metadata": {},
   "outputs": [],
   "source": [
    "loans = pd.read_csv(r\"C:\\Users\\SVNET Analyst\\Downloads\\umshiza_db\\c19_loans.csv\")"
   ]
  },
  {
   "cell_type": "code",
   "execution_count": null,
   "metadata": {},
   "outputs": [],
   "source": [
    "loans.head()"
   ]
  },
  {
   "cell_type": "code",
   "execution_count": 7,
   "metadata": {},
   "outputs": [
    {
     "name": "stderr",
     "output_type": "stream",
     "text": [
      "C:\\Users\\SVNET Analyst\\AppData\\Local\\Temp\\ipykernel_101676\\1033847308.py:1: DtypeWarning: Columns (3,4,13,15,18,23,26) have mixed types. Specify dtype option on import or set low_memory=False.\n",
      "  beneficiary = pd.read_csv(r\"C:\\Users\\SVNET Analyst\\Downloads\\umshiza_db\\beneficiary.csv\")\n"
     ]
    }
   ],
   "source": [
    "beneficiary = pd.read_csv(r\"C:\\Users\\SVNET Analyst\\Downloads\\umshiza_db\\beneficiary.csv\")"
   ]
  },
  {
   "cell_type": "code",
   "execution_count": null,
   "metadata": {},
   "outputs": [],
   "source": [
    "newBens = beneficiary.drop(columns=(['city','state','country','delete_flag','bankName','branchCode','accholder','accType',\n",
    "                          'accno','branchName','address_1','address_2']), axis=1)\n",
    "newBens"
   ]
  },
  {
   "cell_type": "code",
   "execution_count": null,
   "metadata": {},
   "outputs": [],
   "source": [
    "newPay = payments.drop(columns=['teller_id','remarks','delete_flag','date_paid','payType','refund_comments'],axis=1)\n",
    "newPay"
   ]
  },
  {
   "cell_type": "code",
   "execution_count": null,
   "metadata": {},
   "outputs": [],
   "source": [
    "paymaster = pd.merge(newBens,newPay,left_on='person_id',right_on='customer_id')\n",
    "paymaster"
   ]
  },
  {
   "cell_type": "code",
   "execution_count": 11,
   "metadata": {},
   "outputs": [
    {
     "name": "stdout",
     "output_type": "stream",
     "text": [
      "Dataframe is written to csv\n"
     ]
    }
   ],
   "source": [
    "#determining the file name\n",
    "file_name = 'PaymentsMaster.csv'\n",
    "#saving the csv file\n",
    "paymaster.to_csv(file_name, sep=',', index=False, encoding='utf-8')\n",
    "print ('Dataframe is written to csv')"
   ]
  }
 ],
 "metadata": {
  "kernelspec": {
   "display_name": "Python 3",
   "language": "python",
   "name": "python3"
  },
  "language_info": {
   "codemirror_mode": {
    "name": "ipython",
    "version": 3
   },
   "file_extension": ".py",
   "mimetype": "text/x-python",
   "name": "python",
   "nbconvert_exporter": "python",
   "pygments_lexer": "ipython3",
   "version": "3.11.5"
  }
 },
 "nbformat": 4,
 "nbformat_minor": 2
}
